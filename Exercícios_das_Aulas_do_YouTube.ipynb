{
  "nbformat": 4,
  "nbformat_minor": 0,
  "metadata": {
    "colab": {
      "provenance": [],
      "authorship_tag": "ABX9TyM9Hcr/uwqzqouxetPG3ayE",
      "include_colab_link": true
    },
    "kernelspec": {
      "name": "python3",
      "display_name": "Python 3"
    },
    "language_info": {
      "name": "python"
    }
  },
  "cells": [
    {
      "cell_type": "markdown",
      "metadata": {
        "id": "view-in-github",
        "colab_type": "text"
      },
      "source": [
        "<a href=\"https://colab.research.google.com/github/RodolfoRaffaele/RodolfoRaffaele/blob/main/Exerc%C3%ADcios_das_Aulas_do_YouTube.ipynb\" target=\"_parent\"><img src=\"https://colab.research.google.com/assets/colab-badge.svg\" alt=\"Open In Colab\"/></a>"
      ]
    },
    {
      "cell_type": "code",
      "execution_count": 1,
      "metadata": {
        "id": "yafnrD-GAXhi",
        "colab": {
          "base_uri": "https://localhost:8080/"
        },
        "outputId": "a4f6a99c-1764-4afe-8ced-15e29a3ee4c9"
      },
      "outputs": [
        {
          "output_type": "stream",
          "name": "stdout",
          "text": [
            "Qual é o seu nome? Rodolfo\n",
            "Qual a sua idade? 43\n",
            "Quanto você pesa? 80\n",
            "Meu nome é Rodolfo tenho 43 anos e peso 80 kg\n"
          ]
        }
      ],
      "source": [
        "nome = input('Qual é o seu nome? ')\n",
        "idade = input('Qual a sua idade? ')\n",
        "peso = input('Quanto você pesa? ')\n",
        "\n",
        "print(f'Meu nome é {nome} tenho {idade} anos e peso {peso} kg')"
      ]
    }
  ]
}